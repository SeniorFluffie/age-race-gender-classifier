{
 "metadata": {
  "language_info": {
   "codemirror_mode": {
    "name": "ipython",
    "version": 3
   },
   "file_extension": ".py",
   "mimetype": "text/x-python",
   "name": "python",
   "nbconvert_exporter": "python",
   "pygments_lexer": "ipython3",
   "version": "3.9.4"
  },
  "orig_nbformat": 2,
  "kernelspec": {
   "name": "python394jvsc74a57bd00023c4fd5f676363117a29e544d3fd2bd6574dda579981c548df1caf5d07c58a",
   "display_name": "Python 3.9.4 64-bit"
  },
  "metadata": {
   "interpreter": {
    "hash": "0023c4fd5f676363117a29e544d3fd2bd6574dda579981c548df1caf5d07c58a"
   }
  }
 },
 "nbformat": 4,
 "nbformat_minor": 2,
 "cells": [
  {
   "source": [
    "import numpy as np \n",
    "import os\n",
    "import matplotlib.pyplot as plt\n",
    "import tensorflow as tf\n",
    "from PIL import Image"
   ],
   "cell_type": "code",
   "metadata": {},
   "execution_count": 13,
   "outputs": []
  },
  {
   "cell_type": "code",
   "execution_count": 9,
   "metadata": {},
   "outputs": [],
   "source": [
    "files = os.listdir('UTKFaces/')\n",
    "images = []\n",
    "labeles = []\n",
    "for file in files:\n",
    "    im = Image.open(file)\n",
    "    width, height = im.size\n",
    "    images.append(list(im.getdata()))\n",
    "    txt = file.split(_)\n",
    "    labels.append([txt[0],txt[1],txt[2]])\n",
    "    im.close()\n",
    "print(images[:4][:5])\n",
    "print(labels[:4])\n"
   ]
  }
 ]
}